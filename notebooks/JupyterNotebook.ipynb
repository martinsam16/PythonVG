{
 "cells": [
  {
   "cell_type": "markdown",
   "source": [
    "# h1\n",
    "## h2\n",
    "### h3\n",
    "#### h4"
   ],
   "metadata": {
    "collapsed": false
   },
   "id": "9a6115f4d4f4b97a"
  },
  {
   "cell_type": "markdown",
   "source": [
    "# Hello World\n",
    "*Corrida*\n",
    "\n",
    "| a  | b  |\n",
    "|----|----|\n",
    "| a  | b  |\n",
    "| a  | b  |\n",
    "| a  | b  |\n",
    "| a  | b  |\n"
   ],
   "metadata": {
    "collapsed": false
   },
   "id": "c646837333948476"
  },
  {
   "cell_type": "code",
   "execution_count": 1,
   "outputs": [
    {
     "name": "stdout",
     "output_type": "stream",
     "text": [
      "Hola\n"
     ]
    }
   ],
   "source": [
    "print('Hola')"
   ],
   "metadata": {
    "collapsed": false,
    "ExecuteTime": {
     "end_time": "2023-09-18T22:42:49.311593Z",
     "start_time": "2023-09-18T22:42:49.279765Z"
    }
   },
   "id": "e7d411695179bae1"
  },
  {
   "cell_type": "code",
   "execution_count": 2,
   "outputs": [
    {
     "data": {
      "text/plain": "3"
     },
     "execution_count": 2,
     "metadata": {},
     "output_type": "execute_result"
    }
   ],
   "source": [
    "a = 1\n",
    "b = 2\n",
    "suma = a + b\n",
    "suma"
   ],
   "metadata": {
    "collapsed": false,
    "ExecuteTime": {
     "end_time": "2023-09-18T22:43:05.861597Z",
     "start_time": "2023-09-18T22:43:05.851056Z"
    }
   },
   "id": "a26fa90b67743d09"
  },
  {
   "cell_type": "code",
   "execution_count": null,
   "outputs": [],
   "source": [],
   "metadata": {
    "collapsed": false
   },
   "id": "c939fa638b264eb2"
  }
 ],
 "metadata": {
  "kernelspec": {
   "display_name": "Python 3",
   "language": "python",
   "name": "python3"
  },
  "language_info": {
   "codemirror_mode": {
    "name": "ipython",
    "version": 2
   },
   "file_extension": ".py",
   "mimetype": "text/x-python",
   "name": "python",
   "nbconvert_exporter": "python",
   "pygments_lexer": "ipython2",
   "version": "2.7.6"
  }
 },
 "nbformat": 4,
 "nbformat_minor": 5
}
