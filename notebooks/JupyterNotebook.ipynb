{
 "cells": [
  {
   "cell_type": "markdown",
   "source": [
    "# h1\n",
    "## h2\n",
    "### h3\n",
    "#### h4"
   ],
   "metadata": {
    "collapsed": false
   },
   "id": "9a6115f4d4f4b97a"
  },
  {
   "cell_type": "markdown",
   "source": [
    "# Hello World\n",
    "*Corrida*\n",
    "\n",
    "|col1|col2|\n",
    "|a   |b   |"
   ],
   "metadata": {
    "collapsed": false
   },
   "id": "c646837333948476"
  },
  {
   "cell_type": "code",
   "execution_count": null,
   "outputs": [],
   "source": [
    "print('Hola')"
   ],
   "metadata": {
    "collapsed": false
   },
   "id": "e7d411695179bae1"
  },
  {
   "cell_type": "code",
   "execution_count": null,
   "outputs": [],
   "source": [
    "a = 1\n",
    "b = 2\n",
    "suma = a + b\n",
    "suma"
   ],
   "metadata": {
    "collapsed": false
   },
   "id": "a26fa90b67743d09"
  },
  {
   "cell_type": "code",
   "execution_count": null,
   "outputs": [],
   "source": [],
   "metadata": {
    "collapsed": false
   },
   "id": "85ddbcc0d9397316"
  }
 ],
 "metadata": {
  "kernelspec": {
   "display_name": "Python 3",
   "language": "python",
   "name": "python3"
  },
  "language_info": {
   "codemirror_mode": {
    "name": "ipython",
    "version": 2
   },
   "file_extension": ".py",
   "mimetype": "text/x-python",
   "name": "python",
   "nbconvert_exporter": "python",
   "pygments_lexer": "ipython2",
   "version": "2.7.6"
  }
 },
 "nbformat": 4,
 "nbformat_minor": 5
}
